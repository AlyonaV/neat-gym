{
 "cells": [
  {
   "cell_type": "code",
   "execution_count": 3,
   "id": "9d4b2972-92c6-428a-b848-e3ea4780d666",
   "metadata": {},
   "outputs": [],
   "source": [
    "import gym\n",
    "import matplotlib.pyplot as plt\n",
    "import time\n",
    "import numpy as np\n",
    "import tensorflow.compat.v1 as tf\n",
    "tf.disable_v2_behavior()\n",
    "\n",
    "def reset_graph(seed=42):\n",
    "    tf.reset_default_graph()\n",
    "    tf.set_random_seed(seed)\n",
    "    np.random.seed(seed)"
   ]
  },
  {
   "cell_type": "code",
   "execution_count": 6,
   "id": "a26a114b-5c0d-43f0-9615-007799416038",
   "metadata": {},
   "outputs": [],
   "source": [
    "env = gym.make(\"CartPole-v1\", render_mode='human') # render_mode='rgb_array'\n",
    "\n",
    "reset_graph()\n",
    "\n",
    "n_inputs = 4\n",
    "n_hidden = 4\n",
    "n_outputs = 1\n",
    "\n",
    "learning_rate = 0.01\n",
    "\n",
    "initializer = tf.variance_scaling_initializer()\n",
    "\n",
    "X = tf.placeholder(tf.float32, shape=[None, n_inputs])\n",
    "\n",
    "hidden = tf.layers.dense(X, n_hidden, activation=tf.nn.elu, kernel_initializer=initializer)\n",
    "logits = tf.layers.dense(hidden, n_outputs)\n",
    "outputs = tf.nn.sigmoid(logits)  # probability of action 0 (left)\n",
    "p_left_and_right = tf.concat(axis=1, values=[outputs, 1 - outputs])\n",
    "action = tf.multinomial(tf.log(p_left_and_right), num_samples=1)\n",
    "\n",
    "y = 1. - tf.to_float(action)\n",
    "cross_entropy = tf.nn.sigmoid_cross_entropy_with_logits(labels=y, logits=logits)\n",
    "optimizer = tf.train.AdamOptimizer(learning_rate)\n",
    "grads_and_vars = optimizer.compute_gradients(cross_entropy)\n",
    "gradients = [grad for grad, variable in grads_and_vars]\n",
    "gradient_placeholders = []\n",
    "grads_and_vars_feed = []\n",
    "for grad, variable in grads_and_vars:\n",
    "    gradient_placeholder = tf.placeholder(tf.float32, shape=grad.get_shape())\n",
    "    gradient_placeholders.append(gradient_placeholder)\n",
    "    grads_and_vars_feed.append((gradient_placeholder, variable))\n",
    "training_op = optimizer.apply_gradients(grads_and_vars_feed)\n",
    "\n",
    "init = tf.global_variables_initializer()\n",
    "saver = tf.train.Saver()"
   ]
  },
  {
   "cell_type": "code",
   "execution_count": 11,
   "id": "aa1de4ce-066b-4eb3-bc36-38468cfb5e0d",
   "metadata": {},
   "outputs": [
    {
     "name": "stdout",
     "output_type": "stream",
     "text": [
      "INFO:tensorflow:Restoring parameters from my_policy_net_pg.ckpt\n",
      "INFO:tensorflow:Restoring parameters from my_policy_net_pg.ckpt\n",
      "INFO:tensorflow:Restoring parameters from my_policy_net_pg.ckpt\n",
      "INFO:tensorflow:Restoring parameters from my_policy_net_pg.ckpt\n",
      "INFO:tensorflow:Restoring parameters from my_policy_net_pg.ckpt\n",
      "INFO:tensorflow:Restoring parameters from my_policy_net_pg.ckpt\n",
      "INFO:tensorflow:Restoring parameters from my_policy_net_pg.ckpt\n",
      "INFO:tensorflow:Restoring parameters from my_policy_net_pg.ckpt\n",
      "INFO:tensorflow:Restoring parameters from my_policy_net_pg.ckpt\n",
      "INFO:tensorflow:Restoring parameters from my_policy_net_pg.ckpt\n",
      "Mean: 238.3; STD: 117.97970164396925; Min: 125.0; Max: 500.0; Terminated: 9; Truncated: 1\n"
     ]
    }
   ],
   "source": [
    "num_steps = 1000\n",
    "num_episodes = 10\n",
    "totals = []\n",
    "terminated_num = 0\n",
    "truncated_num = 0\n",
    "model_path = \"my_policy_net_pg.ckpt\"\n",
    "\n",
    "for episode in range(num_episodes):\n",
    "    episode_reward = 0\n",
    "    obs = env.reset()[0]\n",
    "    with tf.Session() as sess:\n",
    "        saver.restore(sess, model_path)\n",
    "        for step in range(num_steps):\n",
    "            action_val = action.eval(feed_dict={X: obs.reshape(1, n_inputs)})\n",
    "\n",
    "            # app={ly the action\n",
    "            obs, reward, terminated, truncated, info  = env.step(action_val[0][0])\n",
    "            episode_reward += reward\n",
    "            ## Render the env\n",
    "            #env.render()\n",
    "\n",
    "            ## Wait a bit before the next frame unless you want to see a crazy fast video\n",
    "            #time.sleep(0.001)\n",
    "\n",
    "            # If the epsiode is up, then start another one\n",
    "            if terminated:\n",
    "                terminated_num += 1\n",
    "                break\n",
    "            if truncated:\n",
    "                truncated_num += 1\n",
    "                break\n",
    "        totals.append(episode_reward)\n",
    "\n",
    "print(f\"Mean: {np.mean(totals)}; STD: {np.std(totals)}; Min: {np.min(totals)}; Max: {np.max(totals)}; Terminated: {terminated_num}; Truncated: {truncated_num}\")"
   ]
  },
  {
   "cell_type": "code",
   "execution_count": null,
   "id": "2d496e61-8406-4b7f-8dfb-5ada73193772",
   "metadata": {},
   "outputs": [],
   "source": [
    "\n",
    "\n"
   ]
  },
  {
   "cell_type": "code",
   "execution_count": null,
   "id": "76b3746d-b744-4244-95e5-763db5193cae",
   "metadata": {},
   "outputs": [],
   "source": []
  }
 ],
 "metadata": {
  "environment": {
   "kernel": "python3",
   "name": "tf2-gpu.2-6.m109",
   "type": "gcloud",
   "uri": "gcr.io/deeplearning-platform-release/tf2-gpu.2-6:m109"
  },
  "kernelspec": {
   "display_name": "Python 3",
   "language": "python",
   "name": "python3"
  },
  "language_info": {
   "codemirror_mode": {
    "name": "ipython",
    "version": 3
   },
   "file_extension": ".py",
   "mimetype": "text/x-python",
   "name": "python",
   "nbconvert_exporter": "python",
   "pygments_lexer": "ipython3",
   "version": "3.9.16"
  }
 },
 "nbformat": 4,
 "nbformat_minor": 5
}
