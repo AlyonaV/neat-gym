{
 "cells": [
  {
   "cell_type": "code",
   "execution_count": 1,
   "id": "f4f1fcb2",
   "metadata": {},
   "outputs": [
    {
     "name": "stdout",
     "output_type": "stream",
     "text": [
      "WARNING:tensorflow:From /opt/conda/lib/python3.9/site-packages/tensorflow/python/compat/v2_compat.py:101: disable_resource_variables (from tensorflow.python.ops.variable_scope) is deprecated and will be removed in a future version.\n",
      "Instructions for updating:\n",
      "non-resource variables are not supported in the long term\n"
     ]
    }
   ],
   "source": [
    "import gym\n",
    "import matplotlib.pyplot as plt\n",
    "import time\n",
    "import numpy as np\n",
    "import tensorflow.compat.v1 as tf\n",
    "tf.disable_v2_behavior()\n",
    "\n",
    "def reset_graph(seed=42):\n",
    "    tf.reset_default_graph()\n",
    "    tf.set_random_seed(seed)\n",
    "    np.random.seed(seed)"
   ]
  },
  {
   "cell_type": "code",
   "execution_count": 2,
   "id": "59e23680",
   "metadata": {},
   "outputs": [],
   "source": [
    "env = gym.make(\"CartPole-v1\", render_mode='human') # render_mode='rgb_array'"
   ]
  },
  {
   "cell_type": "code",
   "execution_count": 3,
   "id": "53e07171",
   "metadata": {},
   "outputs": [],
   "source": [
    "## Observation and action space \n",
    "#obs_space = env.observation_space\n",
    "#action_space = env.action_space\n",
    "#print(\"The observation space: {}\".format(obs_space))\n",
    "#print(\"The action space: {}\".format(action_space))"
   ]
  },
  {
   "cell_type": "code",
   "execution_count": 4,
   "id": "5a0c5504",
   "metadata": {},
   "outputs": [],
   "source": [
    "def basic_policy(obs):\n",
    "    angle = obs[2]\n",
    "    return 0 if angle < 0 else 1"
   ]
  },
  {
   "cell_type": "code",
   "execution_count": 5,
   "id": "a6f5cd1e",
   "metadata": {},
   "outputs": [],
   "source": [
    "num_steps = 1000\n",
    "num_episodes = 10\n",
    "totals = []\n",
    "for episode in range(num_episodes):\n",
    "    episode_reward = 0\n",
    "    obs = env.reset()[0]\n",
    "    for step in range(num_steps):\n",
    "        action = basic_policy(obs)#env.action_space.sample()\n",
    "\n",
    "        # app={ly the action\n",
    "        obs, reward, terminated, truncated, info  = env.step(action)\n",
    "        episode_reward += reward\n",
    "        ## Render the env\n",
    "        #env.render()\n",
    "        \n",
    "        # Wait a bit before the next frame unless you want to see a crazy fast video\n",
    "        time.sleep(0.001)\n",
    "\n",
    "        # If the epsiode is up, then start another one\n",
    "        if terminated or truncated:\n",
    "            break\n",
    "    totals.append(episode_reward)"
   ]
  },
  {
   "cell_type": "markdown",
   "id": "2835fc9e",
   "metadata": {},
   "source": [
    "# Neural Network Policies"
   ]
  },
  {
   "cell_type": "markdown",
   "id": "42071090",
   "metadata": {},
   "source": [
    "To choose an action, the network will first estimate a probability for each action, then select an action randomly according to the estimated probabilities."
   ]
  },
  {
   "cell_type": "code",
   "execution_count": 6,
   "id": "a6f9b116",
   "metadata": {},
   "outputs": [
    {
     "name": "stdout",
     "output_type": "stream",
     "text": [
      "WARNING:tensorflow:From /opt/conda/lib/python3.9/site-packages/tensorflow/python/util/dispatch.py:206: multinomial (from tensorflow.python.ops.random_ops) is deprecated and will be removed in a future version.\n",
      "Instructions for updating:\n",
      "Use `tf.random.categorical` instead.\n"
     ]
    },
    {
     "name": "stderr",
     "output_type": "stream",
     "text": [
      "/opt/conda/lib/python3.9/site-packages/keras/legacy_tf_layers/core.py:236: UserWarning: `tf.layers.dense` is deprecated and will be removed in a future version. Please use `tf.keras.layers.Dense` instead.\n",
      "  warnings.warn('`tf.layers.dense` is deprecated and '\n",
      "/opt/conda/lib/python3.9/site-packages/keras/engine/base_layer_v1.py:1676: UserWarning: `layer.apply` is deprecated and will be removed in a future version. Please use `layer.__call__` method instead.\n",
      "  warnings.warn('`layer.apply` is deprecated and '\n"
     ]
    }
   ],
   "source": [
    "# 1. Specify the network architecture\n",
    "n_inputs = 4\n",
    "n_hidden = 4\n",
    "n_outputs = 1\n",
    "initializer = tf.variance_scaling_initializer()\n",
    "\n",
    "# 2. Build the neural network\n",
    "X = tf.placeholder(tf.float32, shape = [None, n_inputs])\n",
    "hidden = tf.layers.dense(X, n_hidden, activation=tf.nn.elu, kernel_initializer=initializer)\n",
    "outputs = tf.layers.dense(hidden, n_outputs, activation=tf.nn.sigmoid, kernel_initializer=initializer)\n",
    "\n",
    "# 3. Select a random action based on the estimated probabilities\n",
    "p_left_and_right = tf.concat(axis = 1, values=[outputs, 1 - outputs])\n",
    "action = tf.multinomial(tf.log(p_left_and_right), num_samples = 1)\n",
    "\n",
    "init = tf.global_variables_initializer()"
   ]
  },
  {
   "cell_type": "markdown",
   "id": "d152ff60",
   "metadata": {},
   "source": [
    "Randomly initialize policy neural network and use it to play few games"
   ]
  },
  {
   "cell_type": "code",
   "execution_count": 7,
   "id": "08a1d929",
   "metadata": {
    "scrolled": true
   },
   "outputs": [
    {
     "name": "stderr",
     "output_type": "stream",
     "text": [
      "2023-07-11 20:54:20.823545: W tensorflow/stream_executor/platform/default/dso_loader.cc:64] Could not load dynamic library 'libcuda.so.1'; dlerror: libcuda.so.1: cannot open shared object file: No such file or directory; LD_LIBRARY_PATH: /usr/local/cuda/lib64:/usr/local/nccl2/lib:/usr/local/cuda/extras/CUPTI/lib64\n",
      "2023-07-11 20:54:20.823620: W tensorflow/stream_executor/cuda/cuda_driver.cc:269] failed call to cuInit: UNKNOWN ERROR (303)\n",
      "2023-07-11 20:54:20.823665: I tensorflow/stream_executor/cuda/cuda_diagnostics.cc:156] kernel driver does not appear to be running on this host (robotarm-neat1): /proc/driver/nvidia/version does not exist\n",
      "2023-07-11 20:54:20.824598: I tensorflow/core/platform/cpu_feature_guard.cc:142] This TensorFlow binary is optimized with oneAPI Deep Neural Network Library (oneDNN) to use the following CPU instructions in performance-critical operations:  AVX2 AVX512F FMA\n",
      "To enable them in other operations, rebuild TensorFlow with the appropriate compiler flags.\n"
     ]
    }
   ],
   "source": [
    "n_max_steps = 1000\n",
    "n_games = 10\n",
    "\n",
    "with tf.Session() as sess:\n",
    "    init.run()\n",
    "    for game in range(n_games):\n",
    "        obs = env.reset(seed = 42)[0]\n",
    "        for step in range(n_max_steps):\n",
    "            #env.render()\n",
    "            action_val = action.eval(feed_dict={X: obs.reshape(1, n_inputs)})\n",
    "\n",
    "            obs, reward, terminated, truncated, info  = env.step(action_val[0][0])\n",
    "            if terminated or truncated:\n",
    "                break"
   ]
  },
  {
   "cell_type": "markdown",
   "id": "1b8782b0",
   "metadata": {},
   "source": [
    "Learning the basic policy (go left if the pole is tilting left, and go right if it is tilting right)"
   ]
  },
  {
   "cell_type": "code",
   "execution_count": 8,
   "id": "0b9c1d29",
   "metadata": {},
   "outputs": [],
   "source": [
    "reset_graph()\n",
    "\n",
    "n_inputs = 4\n",
    "n_hidden = 4\n",
    "n_outputs = 1\n",
    "\n",
    "learning_rate = 0.01\n",
    "\n",
    "initializer = tf.variance_scaling_initializer()\n",
    "\n",
    "X = tf.placeholder(tf.float32, shape = [None, n_inputs])\n",
    "y = tf.placeholder(tf.float32, shape = [None, n_outputs])\n",
    "\n",
    "hidden = tf.layers.dense(X, n_hidden, activation=tf.nn.elu, kernel_initializer=initializer)\n",
    "logits = tf.layers.dense(hidden, n_outputs)\n",
    "outputs = tf.nn.sigmoid(logits) # probability of action 0 (left)\n",
    "\n",
    "p_left_and_right = tf.concat(axis = 1, values=[outputs, 1 - outputs])\n",
    "action = tf.multinomial(tf.log(p_left_and_right), num_samples = 1)\n",
    "\n",
    "cross_entropy = tf.nn.sigmoid_cross_entropy_with_logits(labels=y, logits=logits)\n",
    "optimizer = tf.train.AdamOptimizer(learning_rate)\n",
    "training_op = optimizer.minimize(cross_entropy)\n",
    "\n",
    "init = tf.global_variables_initializer()\n",
    "saver = tf.train.Saver()"
   ]
  },
  {
   "cell_type": "code",
   "execution_count": 9,
   "id": "0467cc88",
   "metadata": {},
   "outputs": [],
   "source": [
    "n_environments = 10\n",
    "n_iterations = 1000\n",
    "obs = env.reset(seed = 42)[0]\n",
    "\n",
    "with tf.Session() as sess:\n",
    "    init.run()\n",
    "\n",
    "    for iteration in range(n_iterations):\n",
    "        target_proba = [1.0] if obs[2] < 0 else [0.] # if angle<0 we want proba(left)=1., or else proba(left)=0.\n",
    "    \n",
    "        action_val, _ = sess.run([action, training_op], feed_dict={X: np.array([obs]), y: np.array([target_proba])})\n",
    "\n",
    "        obs, reward, terminated, truncated, info  = env.step(action_val[0][0])\n",
    "        if terminated or truncated:\n",
    "            obs = env.reset(seed = 42)[0]\n",
    "    saver.save(sess, \"./my_policy_net_basic.ckpt\")"
   ]
  },
  {
   "cell_type": "code",
   "execution_count": 10,
   "id": "8012f09c",
   "metadata": {},
   "outputs": [
    {
     "name": "stdout",
     "output_type": "stream",
     "text": [
      "INFO:tensorflow:Restoring parameters from ./my_policy_net_basic.ckpt\n"
     ]
    }
   ],
   "source": [
    "def render_policy_net(model_path, action, X, n_max_steps=1000):\n",
    "    obs = env.reset()[0]\n",
    "    with tf.Session() as sess:\n",
    "        saver.restore(sess, model_path)\n",
    "        for step in range(n_max_steps):\n",
    "            action_val = action.eval(feed_dict={X: obs.reshape(1, n_inputs)})\n",
    "\n",
    "            obs, reward, terminated, truncated, info  = env.step(action_val[0][0])\n",
    "            if terminated or truncated:\n",
    "                break\n",
    "    return\n",
    "\n",
    "render_policy_net(\"./my_policy_net_basic.ckpt\", action, X)"
   ]
  },
  {
   "cell_type": "markdown",
   "id": "d1f433f6",
   "metadata": {},
   "source": [
    "# Learning better policy"
   ]
  },
  {
   "cell_type": "code",
   "execution_count": 11,
   "id": "1c732f64",
   "metadata": {},
   "outputs": [
    {
     "name": "stdout",
     "output_type": "stream",
     "text": [
      "WARNING:tensorflow:From /var/tmp/ipykernel_108933/1467530555.py:20: to_float (from tensorflow.python.ops.math_ops) is deprecated and will be removed in a future version.\n",
      "Instructions for updating:\n",
      "Use `tf.cast` instead.\n"
     ]
    }
   ],
   "source": [
    "reset_graph()\n",
    "\n",
    "n_inputs = 4\n",
    "n_hidden = 4\n",
    "n_outputs = 1\n",
    "\n",
    "learning_rate = 0.01\n",
    "\n",
    "initializer = tf.variance_scaling_initializer()\n",
    "\n",
    "X = tf.placeholder(tf.float32, shape = [None, n_inputs])\n",
    "\n",
    "hidden = tf.layers.dense(X, n_hidden, activation=tf.nn.elu, kernel_initializer=initializer)\n",
    "logits = tf.layers.dense(hidden, n_outputs)\n",
    "outputs = tf.nn.sigmoid(logits) # probability of action 0 (left)\n",
    "\n",
    "p_left_and_right = tf.concat(axis = 1, values=[outputs, 1 - outputs])\n",
    "action = tf.multinomial(tf.log(p_left_and_right), num_samples = 1)\n",
    "\n",
    "y = 1. - tf.to_float(action)\n",
    "cross_entropy = tf.nn.sigmoid_cross_entropy_with_logits(labels=y, logits=logits)\n",
    "optimizer = tf.train.AdamOptimizer(learning_rate)\n",
    "grads_and_vars = optimizer.compute_gradients(cross_entropy)\n",
    "gradients = [grad for grad, variable in grads_and_vars]\n",
    "gradients_placeholders = []\n",
    "grads_and_vars_feed = []\n",
    "for grad, variable in grads_and_vars:\n",
    "    gradients_placeholder = tf.placeholder(tf.float32, shape=grad.get_shape())\n",
    "    gradients_placeholders.append(gradients_placeholder)\n",
    "    grads_and_vars_feed.append((gradients_placeholder, variable))\n",
    "training_op = optimizer.apply_gradients(grads_and_vars_feed)\n",
    "\n",
    "init = tf.global_variables_initializer()\n",
    "saver = tf.train.Saver()"
   ]
  },
  {
   "cell_type": "code",
   "execution_count": 12,
   "id": "73d88829",
   "metadata": {},
   "outputs": [
    {
     "data": {
      "text/plain": [
       "array([-22., -40., -50.])"
      ]
     },
     "execution_count": 12,
     "metadata": {},
     "output_type": "execute_result"
    }
   ],
   "source": [
    "def discount_rewards(rewards, discount_rate):\n",
    "    discounted_rewards = np.zeros(len(rewards))\n",
    "    cumulative_rewards = 0\n",
    "    for step in reversed(range(len(rewards))):\n",
    "        cumulative_rewards = rewards[step] + cumulative_rewards * discount_rate\n",
    "        discounted_rewards[step] = cumulative_rewards\n",
    "    return discounted_rewards\n",
    "\n",
    "def discount_and_normalize_rewards(all_rewards, discount_rate):\n",
    "    all_discounted_rewards = [discount_rewards(rewards, discount_rate) for rewards in all_rewards]\n",
    "    flat_rewards = np.concatenate(all_discounted_rewards)\n",
    "    reward_mean = flat_rewards.mean()\n",
    "    reward_std = flat_rewards.std()\n",
    "    ret = [(discounted_rewards - reward_mean)/reward_std for discounted_rewards in all_discounted_rewards]\n",
    "    return ret\n",
    "\n",
    "discount_rewards([10, 0, -50], discount_rate=0.8)"
   ]
  },
  {
   "cell_type": "code",
   "execution_count": null,
   "id": "9357cf91",
   "metadata": {},
   "outputs": [],
   "source": [
    "n_iterations = 250\n",
    "n_max_steps = 1000\n",
    "n_games_per_update = 10\n",
    "save_iterations = 10\n",
    "discount_rate = 0.95\n",
    "\n",
    "with tf.Session() as sess:\n",
    "    init.run()\n",
    "    for iteration in range(n_iterations):\n",
    "        all_rewards = []\n",
    "        all_gradients = []\n",
    "        for game in range(n_games_per_update):\n",
    "            current_rewards = []\n",
    "            current_gradients = []\n",
    "            obs = env.reset()[0]\n",
    "            for step in range(n_max_steps):\n",
    "                action_val, gradients_val = sess.run([action, gradients], feed_dict={X: obs.reshape(1, n_inputs)})\n",
    "                obs, reward, terminated, truncated, info  = env.step(action_val[0][0])\n",
    "                current_rewards.append(reward)\n",
    "                current_gradients.append(gradients_val)\n",
    "                if terminated or truncated:\n",
    "                    break;\n",
    "            all_rewards.append(current_rewards)\n",
    "            all_gradients.append(current_gradients)\n",
    "        \n",
    "        all_rewards = discount_and_normalize_rewards(all_rewards, discount_rate)\n",
    "        feed_dict = {}\n",
    "        for var_index, grad_placeholder in enumerate(gradients_placeholders):\n",
    "            mean_gradients = np.mean([reward * all_gradients[game_index][step][var_index]\n",
    "                                    for game_index, rewards in enumerate(all_rewards)\n",
    "                                    for step, reward in enumerate(rewards)], axis = 0)\n",
    "            feed_dict[grad_placeholder] = mean_gradients\n",
    "        sess.run(training_op, feed_dict=feed_dict)\n",
    "        if iteration % save_iterations == 0:\n",
    "            saver.save(sess, \"./my_policy_net_pg.ckpt\")\n"
   ]
  },
  {
   "cell_type": "code",
   "execution_count": null,
   "id": "d7a51017",
   "metadata": {},
   "outputs": [],
   "source": [
    "render_policy_net(\"./my_policy_net_pg.ckpt\", action, X, n_max_steps=10000)"
   ]
  },
  {
   "cell_type": "code",
   "execution_count": null,
   "id": "130c41d8",
   "metadata": {},
   "outputs": [],
   "source": [
    "env.close()"
   ]
  },
  {
   "cell_type": "code",
   "execution_count": null,
   "id": "3d2286bc",
   "metadata": {},
   "outputs": [],
   "source": [
    "print(f\"Mean: {np.mean(totals)}; STD: {np.std(totals)}; Min: {np.min(totals)}; Max: {np.max(totals)}\")"
   ]
  },
  {
   "cell_type": "code",
   "execution_count": null,
   "id": "3816e61a-624e-442a-9614-2fbd2bddea61",
   "metadata": {},
   "outputs": [],
   "source": []
  }
 ],
 "metadata": {
  "environment": {
   "kernel": "python3",
   "name": "tf2-gpu.2-6.m109",
   "type": "gcloud",
   "uri": "gcr.io/deeplearning-platform-release/tf2-gpu.2-6:m109"
  },
  "kernelspec": {
   "display_name": "Python 3",
   "language": "python",
   "name": "python3"
  },
  "language_info": {
   "codemirror_mode": {
    "name": "ipython",
    "version": 3
   },
   "file_extension": ".py",
   "mimetype": "text/x-python",
   "name": "python",
   "nbconvert_exporter": "python",
   "pygments_lexer": "ipython3",
   "version": "3.9.16"
  }
 },
 "nbformat": 4,
 "nbformat_minor": 5
}
